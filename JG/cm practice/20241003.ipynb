{
 "cells": [
  {
   "cell_type": "code",
   "execution_count": 1,
   "id": "92c0b5a3-6f41-4857-82e1-d9c1f24b85e6",
   "metadata": {},
   "outputs": [
    {
     "name": "stdin",
     "output_type": "stream",
     "text": [
      " 3 4 5\n"
     ]
    },
    {
     "name": "stdout",
     "output_type": "stream",
     "text": [
      "YES\n"
     ]
    }
   ],
   "source": [
    "# 직각삼각형\n",
    "a,b,c = map(int,input().split())\n",
    "if (a**2) + (b**2) == (c**2):\n",
    "    print('YES')\n",
    "else:\n",
    "    print('NO')"
   ]
  },
  {
   "cell_type": "code",
   "execution_count": null,
   "id": "5a67bf74-ab01-412b-9b07-a30dfb28a962",
   "metadata": {},
   "outputs": [],
   "source": [
    "# 타격왕\n",
    "\n",
    "import math\n",
    "x, y = map(int,input().split())\n",
    "z = math.floor(y/x*100)\n",
    "s = 0\n",
    "m = 1000000000\n",
    "a = -1\n",
    "while s <= m:\n",
    "    mid = (s + m) // 2\n",
    "    b = math.floor((y+mid)/(x+mid)*100)\n",
    "    if b > z:\n",
    "        a = mid\n",
    "        m = mid-1\n",
    "    else :\n",
    "        s = mid+1\n",
    "        \n",
    "print(a)"
   ]
  },
  {
   "cell_type": "code",
   "execution_count": 5,
   "id": "f1e8272f-5fb6-48a9-9e89-c3dca2566d9d",
   "metadata": {},
   "outputs": [
    {
     "name": "stdin",
     "output_type": "stream",
     "text": [
      " 5\n",
      " 8\n",
      " 1 9\n",
      " 3 2 4\n",
      " 5 2 9 8\n",
      " 6 6 5 4 8\n"
     ]
    },
    {
     "name": "stdout",
     "output_type": "stream",
     "text": [
      "[[8], [9, 17], [12, 19, 21], [17, 21, 30, 29], [23, 27, 35, 34, 37]]\n",
      "37\n"
     ]
    }
   ],
   "source": [
    "#동전 줍기(dp테이블 활용)\n",
    "\n",
    "# 리스트의 줄 수\n",
    "\n",
    "n = int(input())\n",
    "\n",
    "# 삼각형 리스트 만들기\n",
    "\n",
    "a = [list(map(int, input().split())) for i in range(n)]\n",
    "\n",
    "# dp 테이블 만들기, 파이썬의 range 함수는 0부터 시작하므로 + 1\n",
    "\n",
    "c = [[0] * (i + 1) for i in range(n)]\n",
    "\n",
    "# 초기값은 a행 첫번째와 동일\n",
    "\n",
    "c[0][0] = a[0][0]\n",
    "\n",
    "# 반목문 진입\n",
    "\n",
    "# i 번 반복, 2번째 값부터 시작, n이 끝으로 다음행 계산 x\n",
    "\n",
    "for i in range(1, n):\n",
    "    # a리스트의 i번째 요소의 길이만큼 반복\n",
    "    for j in range(len(a[i])):\n",
    "        # 그냥 죽 내려 왔을 때 아래에서 계산\n",
    "        if j == 0:\n",
    "            c[i][j] = c[i - 1][j] + a[i][j] \n",
    "        #그냥 안내려오고 맨 왼쪽에서 왔을때 계\n",
    "        elif j == len(a[i]) - 1:\n",
    "            c[i][j] = c[i - 1][j - 1] + a[i][j]  \n",
    "        else:\n",
    "            c[i][j] = max(c[i - 1][j - 1], c[i - 1][j]) + a[i][j]\n",
    "\n",
    "print(c)\n",
    "print(max(c[n - 1]))"
   ]
  },
  {
   "cell_type": "code",
   "execution_count": 4,
   "id": "f0848628-5b52-4226-bf10-3c155fe242a8",
   "metadata": {},
   "outputs": [
    {
     "name": "stdin",
     "output_type": "stream",
     "text": [
      " 5\n",
      " 1\n",
      " 12 13\n",
      " 15 132 54\n",
      " 12 45 65 78 2\n",
      " 3 45 78 32 45 7\n"
     ]
    },
    {
     "name": "stdout",
     "output_type": "stream",
     "text": [
      "[[0], [0, 0], [0, 0, 0], [0, 0, 0, 0], [0, 0, 0, 0, 0]]\n"
     ]
    }
   ],
   "source": [
    "n = int(input())\n",
    "# 삼각형 리스트 만들기\n",
    "a = [list(map(int, input().split())) for i in range(n)]\n",
    "# dp 테이블 만들기\n",
    "c = [[0] * (i + 1) for i in range(n)]\n",
    "\n",
    "print(c)"
   ]
  },
  {
   "cell_type": "code",
   "execution_count": null,
   "id": "37f859de-4174-44c5-8f05-db2b9581789b",
   "metadata": {},
   "outputs": [],
   "source": [
    "조합 함수 만들기\n",
    "\n",
    "# 곱하기를 해야하니 d = 1 초기값 설정\n",
    "def fac(n):\n",
    "    d = 1\n",
    "    for i in range(2,n+1):\n",
    "        d*=i\n",
    "    return d\n",
    "\n",
    "\n",
    "n ,r = map(int,(input().split()))\n",
    "\n",
    "# 조합 공식\n",
    "print(fac(n)//(fac(r)*fac(n-r)))"
   ]
  },
  {
   "cell_type": "code",
   "execution_count": null,
   "id": "da438586-9b74-46fd-be8e-943c40408831",
   "metadata": {},
   "outputs": [],
   "source": [
    "#배수 만들기(안됨)\n",
    "n = input()\n",
    "a = list(map(int,input().split()))\n",
    "if (a.count(0)<2) | (sum(a)%3 !=0):\n",
    "    print(-1)\n",
    "else:\n",
    "    a.sort(reverse=True)\n",
    "    b = int(''.join(map(str,a)))\n",
    "    if b % 300 !=0:\n",
    "        print(-1)\n",
    "    else:\n",
    "        print(b)"
   ]
  },
  {
   "cell_type": "code",
   "execution_count": 12,
   "id": "d0a5e63d-f6e7-4fe3-9248-68ed146c4fe7",
   "metadata": {},
   "outputs": [
    {
     "name": "stdin",
     "output_type": "stream",
     "text": [
      " 5\n"
     ]
    },
    {
     "name": "stdout",
     "output_type": "stream",
     "text": [
      "**\n",
      " **\n",
      "  **\n",
      "   **\n",
      "    **\n"
     ]
    }
   ],
   "source": [
    "# 구름별\n",
    "for i in range(int(input())):print(' '*i+'**')"
   ]
  },
  {
   "cell_type": "code",
   "execution_count": 14,
   "id": "db4e833c-f414-42bd-90fc-5b8d616d943c",
   "metadata": {},
   "outputs": [
    {
     "name": "stdin",
     "output_type": "stream",
     "text": [
      " 5\n",
      " 68 73\n",
      " 56 64\n",
      " 71 56\n",
      " 15 23\n",
      " 18 22\n"
     ]
    },
    {
     "name": "stdout",
     "output_type": "stream",
     "text": [
      "1 2 1 4 4 "
     ]
    }
   ],
   "source": [
    "n = int(input())\n",
    "a = [tuple(map(int, input().split())) for i in range(n)]\n",
    "b = [0]*n\n",
    "c = [False]*n\n",
    "for i in range(n):\n",
    "    for j in range(i+1,n):\n",
    "        if (a[i][0] > a[j][0] and a[i][1] > a[j][1]) or (a[i][0] == a[j][0] and a[i][1] > a[j][1]):\n",
    "            b[j] += 1\n",
    "        elif (a[j][0] > a[i][0]) and (a[j][1] > a[i][1]) or (a[j][0] == a[i][0] and a[j][1] > a[i][1]) :\n",
    "            b[i] += 1\n",
    "        else :\n",
    "            continue\n",
    "for i in range(n):\n",
    "    print(b[i] + 1, end=' ')\n",
    "    \n",
    "    "
   ]
  },
  {
   "cell_type": "code",
   "execution_count": null,
   "id": "f520b669-ddbe-408f-b79a-8974f352cf81",
   "metadata": {},
   "outputs": [],
   "source": [
    "# 오리 농법\n",
    "\n",
    "n = int(input())\n",
    "f = [list(map(int,input().split())) for i in range(n)]\n",
    "c = 0\n",
    "\n",
    "# 행과 열에 대하여 False 만들기\n",
    "row = [False]*n\n",
    "col = [False]*n\n",
    "for i in range(n):\n",
    "    for j in range(n):\n",
    "        if f[i][j] == 1:\n",
    "            row = True\n",
    "            col = True\n",
    "for i in range(n):\n",
    "    for j in range(n):\n",
    "        if f[i][j] == 2:  \n",
    "            if row[i] or col[j]:\n",
    "                c += 1"
   ]
  },
  {
   "cell_type": "code",
   "execution_count": null,
   "id": "edf72dad-e0a4-4a2f-9463-b0eea3317695",
   "metadata": {},
   "outputs": [],
   "source": [
    "a, b = map(int, input().split())\n",
    "n = int(input())\n",
    "s = a // b  \n",
    "k = a % b   \n",
    "e = []     \n",
    "for i in range(n + 1): \n",
    "    k *= 10\n",
    "    e.append(k // b)  # 리스트에 정수 값을 추가\n",
    "    k %= b\n",
    "if len(e) > n and e[n] >= 5:  \n",
    "    e[n - 1] += 1 \n",
    "e = e[:n]\n",
    "\n",
    "result = f'{s}.' + ''.join(map(str, e))  # 리스트 요소를 문자열로 변환 후 결합\n",
    "print(result)\n"
   ]
  }
 ],
 "metadata": {
  "kernelspec": {
   "display_name": "Python 3 (ipykernel)",
   "language": "python",
   "name": "python3"
  },
  "language_info": {
   "codemirror_mode": {
    "name": "ipython",
    "version": 3
   },
   "file_extension": ".py",
   "mimetype": "text/x-python",
   "name": "python",
   "nbconvert_exporter": "python",
   "pygments_lexer": "ipython3",
   "version": "3.12.4"
  }
 },
 "nbformat": 4,
 "nbformat_minor": 5
}
