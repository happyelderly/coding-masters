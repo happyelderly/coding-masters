{
 "cells": [
  {
   "cell_type": "code",
   "execution_count": 13,
   "id": "48e949c0-61c3-4c3e-bd59-a70328f72d7a",
   "metadata": {},
   "outputs": [
    {
     "name": "stdin",
     "output_type": "stream",
     "text": [
      " 10 G\n",
      " A B C D E F G H I J\n"
     ]
    },
    {
     "name": "stdout",
     "output_type": "stream",
     "text": [
      "7\n"
     ]
    }
   ],
   "source": [
    "# 내 이름이 적힌 번호\n",
    "a, b = input().split()\n",
    "a = int(a)\n",
    "c = input().split()\n",
    "\n",
    "for i in range(a):\n",
    "    if c[i] == b:\n",
    "        print(i+1)"
   ]
  },
  {
   "cell_type": "code",
   "execution_count": null,
   "id": "480657a0-7e71-46d6-bff1-289b7d999dd7",
   "metadata": {},
   "outputs": [],
   "source": [
    "# readline 사용시 참고\n",
    "import sys \n",
    "\n",
    "a,b = sys.stdin.readline().split()\n",
    "c = sys.stdin.readline().split()\n",
    "a = int(a)\n",
    "for i in range(a):\n",
    "    if c[i] == b:\n",
    "        print(i+1)"
   ]
  },
  {
   "cell_type": "code",
   "execution_count": null,
   "id": "cdbc33a1-af3c-4d7d-b3a5-473fe181aae6",
   "metadata": {},
   "outputs": [],
   "source": [
    "a,b = map(int,sys.stdin.readline())\n",
    "c = map(int, sys.stdin.readline().split()"
   ]
  },
  {
   "cell_type": "code",
   "execution_count": 22,
   "id": "3f2a1c5a-6cfb-4856-8bda-61c90efce795",
   "metadata": {},
   "outputs": [
    {
     "name": "stdin",
     "output_type": "stream",
     "text": [
      " 5 9\n",
      " 1 3 5 7 9\n"
     ]
    },
    {
     "name": "stdout",
     "output_type": "stream",
     "text": [
      "5\n"
     ]
    }
   ],
   "source": [
    "# 정렬된 많은 원소\n",
    "\n",
    "a, b = map(int,input().split())\n",
    "c = list(map(int,input().split()))\n",
    "for i in range(a):\n",
    "    if c[i] == b:\n",
    "        print(i+1)\n",
    "        break\n",
    "else:\n",
    "    print(-1)\n",
    "\n"
   ]
  },
  {
   "cell_type": "code",
   "execution_count": null,
   "id": "bd5cf4e8-6f83-4a08-89e8-2e5cc4fcef6b",
   "metadata": {},
   "outputs": [],
   "source": []
  },
  {
   "cell_type": "code",
   "execution_count": null,
   "id": "c6ce2fb2-dc82-447e-8738-ea3fe085fedb",
   "metadata": {},
   "outputs": [],
   "source": []
  }
 ],
 "metadata": {
  "kernelspec": {
   "display_name": "Python 3 (ipykernel)",
   "language": "python",
   "name": "python3"
  },
  "language_info": {
   "codemirror_mode": {
    "name": "ipython",
    "version": 3
   },
   "file_extension": ".py",
   "mimetype": "text/x-python",
   "name": "python",
   "nbconvert_exporter": "python",
   "pygments_lexer": "ipython3",
   "version": "3.12.4"
  }
 },
 "nbformat": 4,
 "nbformat_minor": 5
}
