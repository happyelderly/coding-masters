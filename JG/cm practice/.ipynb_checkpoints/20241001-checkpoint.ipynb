{
 "cells": [
  {
   "cell_type": "code",
   "execution_count": null,
   "id": "eeae3235-8f31-4064-bf99-9e3382148b96",
   "metadata": {},
   "outputs": [],
   "source": [
    "a = int(input())\n",
    "\n",
    "print(format(a,'o'),format(a,'X'))"
   ]
  },
  {
   "cell_type": "code",
   "execution_count": null,
   "id": "e7b4e4d6-1105-4ed0-a577-9a297d625c79",
   "metadata": {},
   "outputs": [],
   "source": [
    "print(chr(int(input())))"
   ]
  },
  {
   "cell_type": "markdown",
   "id": "dd7924a0-83ee-4fa7-ba2c-d2a8f04950f2",
   "metadata": {},
   "source": [
    "### 친척 수\n",
    "\n",
    "- a%m = r 이고, b%m = r일때 이때의 m을 구하시오\n",
    "- a의 나머지와, b의 나머지가 같으려면 (a-b) = m 이어야 한다.\n",
    "- 그 뒤 while 구문을 이용하여 c 즉 b와 c를 나눴을 때의 나머지가 0이 되는 순간\n",
    "- 즉 두 수의 최대공약수가 나오게 되는 순간 1번째 for 구문은 멈추게 된다.\n",
    "- 그 이후 나온 최대 공약수들의 약수를 구하기 위해 for 구문을 돌려주게 된다."
   ]
  },
  {
   "cell_type": "markdown",
   "id": "9f31e352-ebb9-4529-9989-44cf07e8f510",
   "metadata": {},
   "source": [
    "- 개선된 프로세스 \n",
    "- Enter를 기준으로 리스트에 추가 하는 법\n",
    "\n",
    "l = []\n",
    "\n",
    "for i in range(n):\n",
    "\n",
    "    a = int(input())\n",
    "    \n",
    "    l.append(a)\n",
    "\n",
    "대신 \n",
    "\n",
    "a = [int(input()) for i in range(n)]"
   ]
  },
  {
   "cell_type": "code",
   "execution_count": null,
   "id": "af38ccab-9aff-4dcc-b4d2-10252773e279",
   "metadata": {},
   "outputs": [],
   "source": [
    "n = int(input())\n",
    "\n",
    "# l = []\n",
    "# for i in range(n):\n",
    "#    a = int(input())\n",
    "#    l.append(a)\n",
    "\n",
    "a = [int(input()) for i in range(n)]\n",
    "b = abs(a[0] - a[1])\n",
    "\n",
    "\n",
    "for i in range(2,n):\n",
    "    c = abs(a[i]-a[i-1])\n",
    "    while c != 0:\n",
    "        b,c = c, b%c\n",
    "d = []\n",
    "for i in range(1,b+1):\n",
    "    if b % i ==0:\n",
    "        d.append(i)\n",
    "        \n",
    "d.sort()\n",
    "print(\" \".join(map(str, d)))\n"
   ]
  },
  {
   "cell_type": "markdown",
   "id": "2891f595-4f20-4259-ba39-5457be6a0a4a",
   "metadata": {},
   "source": [
    "### 밑장 빼기"
   ]
  },
  {
   "cell_type": "code",
   "execution_count": null,
   "id": "27a48eb4-181d-4f1d-ae0b-3f7c491e3fbb",
   "metadata": {},
   "outputs": [],
   "source": [
    "N = int(input())\n",
    "c = list(map(int, input().split()))\n",
    "a = 1\n",
    "\n",
    "while c:  \n",
    "    if c[0] == a: \n",
    "        c.pop(0) \n",
    "        a += 1  \n",
    "        # c의 첫번째 것이 1이면 그냥 내려 놓기\n",
    "    elif c[-1] == a:  \n",
    "        c.pop(-1)  \n",
    "        a += 1 \n",
    "        # 아니면 마지막게 1이면 내려놓기 \n",
    "        # 아무튼 첫번째나 마지막에 1이 없어서 순서대로 내려놓지 못하는 경우 no\n",
    "        # 있으면 다음 카드인 2 를 찾기\n",
    "    else:\n",
    "        print(\"NO\")\n",
    "        break\n",
    "else:\n",
    "    print(\"YES\")\n"
   ]
  },
  {
   "cell_type": "markdown",
   "id": "2a60178f-aa63-4c0c-ab14-a16b9cf08ade",
   "metadata": {},
   "source": [
    "### 아까운 쿠폰"
   ]
  },
  {
   "cell_type": "code",
   "execution_count": null,
   "id": "b2d5ac5e-3f8b-4c2d-9952-9bab2d6d9af1",
   "metadata": {},
   "outputs": [],
   "source": [
    "l = [50000, 10000, 5000, 1000, 500, 100, 50, 10]\n",
    "쿠폰 리스트 만들기\n",
    "a = int(input())\n",
    "입력\n",
    "b = 0\n",
    "초기값 설정 \n",
    "\n",
    "for i in l:\n",
    "    # i는 l에 있고 계속 할 거임\n",
    "    b += a // i\n",
    "    # b라는 것은 a(입력값)을 리스트에있는 돈으로 나눴을 때 쿠폰이 몇개 들어갈지\n",
    "    # ex. 5630이라면 5000으로 한번 나눴을 때 몫인 1회\n",
    "    # a %= i\n",
    "    # a = a%i\n",
    "    # 그 이후 남은 돈 a는 다시 리스트에 있는 돈으로 나눈 값으로 설정 해 주기\n",
    "    # ex. 5000원은 냈으니까 630원 거슬러 주\n",
    "\n",
    "print(b)"
   ]
  },
  {
   "cell_type": "markdown",
   "id": "cdc9cf8e-1e19-4a65-96f5-f05f07361e7c",
   "metadata": {},
   "source": [
    "### 바닥 공사"
   ]
  },
  {
   "cell_type": "code",
   "execution_count": 31,
   "id": "3329822b-f69c-49a0-8631-5e0582bcdc85",
   "metadata": {},
   "outputs": [
    {
     "name": "stdin",
     "output_type": "stream",
     "text": [
      " 5\n"
     ]
    },
    {
     "name": "stdout",
     "output_type": "stream",
     "text": [
      "[0, 1, 2, 3, 5, 8]\n"
     ]
    }
   ],
   "source": [
    "n = int(input())\n",
    "\n",
    "# 동적 계획법 테이블 초기화\n",
    "# 입력 한 것보다 하나 더 많게\n",
    "d = [0]*(n+1)\n",
    "\n",
    "# 1칸 일땐 무조건 1개, 2칸일 땐 무조건 2개이므로 설정    \n",
    "\n",
    "d[1] = 1\n",
    "d[2] = 2\n",
    "for i in range(3,n+1):\n",
    "    d[i] = (d[i-1]+d[i-2])%796796\n",
    "\n",
    "# 길이가 3일때 d[2] + d[1]의 의미 : 가로 길이가 2일때 놓는 방법 + 가로 길이가 1일때 놓는 방법을 더한 것.\n",
    "\n",
    "print(d)"
   ]
  },
  {
   "cell_type": "code",
   "execution_count": null,
   "id": "89649b6e-a3f3-4f13-9443-fae0683ded16",
   "metadata": {},
   "outputs": [],
   "source": [
    "### 분리수거"
   ]
  }
 ],
 "metadata": {
  "kernelspec": {
   "display_name": "Python 3 (ipykernel)",
   "language": "python",
   "name": "python3"
  },
  "language_info": {
   "codemirror_mode": {
    "name": "ipython",
    "version": 3
   },
   "file_extension": ".py",
   "mimetype": "text/x-python",
   "name": "python",
   "nbconvert_exporter": "python",
   "pygments_lexer": "ipython3",
   "version": "3.12.4"
  }
 },
 "nbformat": 4,
 "nbformat_minor": 5
}
