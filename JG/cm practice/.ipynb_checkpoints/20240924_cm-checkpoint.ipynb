{
 "cells": [
  {
   "cell_type": "code",
   "execution_count": null,
   "id": "5efb4377-7d43-4e8a-8331-e64c4192ec59",
   "metadata": {},
   "outputs": [],
   "source": [
    "#사전\n",
    "\n",
    "n = int(input())\n",
    "l = set()\n",
    "\n",
    "for i in range(n):\n",
    "    a = input()\n",
    "    l.add(a)\n",
    "    \n",
    "b=sorted(l,key=lambda x:(len(x),x))\n",
    "\n",
    "for i in range(len(b)):\n",
    "    print(b[i])"
   ]
  },
  {
   "cell_type": "code",
   "execution_count": null,
   "id": "8d244aaf-a839-4ba1-b279-06be62ba17ea",
   "metadata": {},
   "outputs": [],
   "source": [
    "# 계단\n",
    "a,b = map(int,input().split())\n",
    "c = 0\n",
    "while a!=b:\n",
    "    if a<b:\n",
    "        a+=3\n",
    "        \n",
    "    else:\n",
    "        a-=1\n",
    "    c +=1\n",
    "print(c)"
   ]
  },
  {
   "cell_type": "code",
   "execution_count": null,
   "id": "fb086a88-0e0b-474e-a754-97772217c8ee",
   "metadata": {},
   "outputs": [],
   "source": [
    "# readline 사용\n",
    "import sys\n",
    "\n",
    "# 빠른 입력을 위해 readline 사용\n",
    "a, b = map(int, sys.stdin.readline().strip().split())\n",
    "\n",
    "# 이동 횟수 카운트\n",
    "c = 0\n",
    "while a != b:\n",
    "    if a < b:\n",
    "        a += 3\n",
    "    else:\n",
    "        a -= 1\n",
    "    c += 1\n",
    "\n",
    "# 결과 출력\n",
    "print(c)"
   ]
  },
  {
   "cell_type": "code",
   "execution_count": 11,
   "id": "5b35cb3f-781a-447a-bd34-a20843e959b2",
   "metadata": {},
   "outputs": [
    {
     "name": "stdin",
     "output_type": "stream",
     "text": [
      " 1 4 2 5 3 \n"
     ]
    },
    {
     "name": "stdout",
     "output_type": "stream",
     "text": [
      "4\n"
     ]
    }
   ],
   "source": [
    "# 중앙 값\n",
    "\n",
    "# 리스트 형성\n",
    "a = list(map(int,input().split()))\n",
    "# 크기 순서 정렬\n",
    "a.sort()\n",
    "# 요소는 5개로 주어졌으므로 3번째 항목만 찾으면 됨\n",
    "print(a[2])"
   ]
  },
  {
   "cell_type": "code",
   "execution_count": 37,
   "id": "c070bce2-375d-4e33-bb4e-186e13f43123",
   "metadata": {},
   "outputs": [
    {
     "name": "stdin",
     "output_type": "stream",
     "text": [
      " 12\n"
     ]
    },
    {
     "name": "stdout",
     "output_type": "stream",
     "text": [
      "123456789101112\n"
     ]
    }
   ],
   "source": [
    "# 몇 번씩 나올까\n",
    "# 숫자를 한번 받음, 그 다음 range함수를 통해 그 숫자까지 늘어놓음\n",
    "# 아니면 b = str을 선언 한다음 그 범위의 요소가 추가 될 수 있게\n",
    "\n",
    "a = int(input()) \n",
    "b =''\n",
    "n = 1  \n",
    "\n",
    "\n",
    "while n <= a:\n",
    "    b = b + str(n) \n",
    "    n += 1  \n",
    "n = 0\n",
    "c = ''\n",
    "while n <= 9:\n",
    "    m = str(n)\n",
    "    c += str(b.count(m))+' '\n",
    "    n += 1\n"
   ]
  },
  {
   "cell_type": "code",
   "execution_count": 21,
   "id": "12318d99-faac-44e2-9371-4c3d4be64a2f",
   "metadata": {},
   "outputs": [
    {
     "name": "stdin",
     "output_type": "stream",
     "text": [
      " 321\n"
     ]
    },
    {
     "name": "stdout",
     "output_type": "stream",
     "text": [
      "62 173 164 84 62 62 62 62 62 62 \n"
     ]
    }
   ],
   "source": [
    "a = int(input())  # 사용자로부터 a 입력\n",
    "b = ''  # 빈 문자열\n",
    "n = 1  # 1부터 시작\n",
    "\n",
    "# 1부터 a까지의 숫자를 문자열로 이어붙임\n",
    "while n <= a:\n",
    "    b = b + str(n)\n",
    "    n += 1\n",
    "\n",
    "n = 0  # 0부터 9까지 반복\n",
    "c = ''\n",
    "while n <= 9:\n",
    "    m = str(n)\n",
    "    c += str(b.count(m))+' '\n",
    "    n += 1\n",
    "\n",
    "print(c)"
   ]
  },
  {
   "cell_type": "code",
   "execution_count": null,
   "id": "83e54c5c-0b1d-4028-a31b-740f21d7f804",
   "metadata": {},
   "outputs": [],
   "source": [
    "# 설거지\n",
    "a = int(input())\n",
    "n = 1\n",
    "while n <= a:\n",
    "    if a%2 ==1:\n",
    "        print('RUN')\n",
    "        break\n",
    "    n=2*n+1\n",
    "else:\n",
    "    print('STAY')"
   ]
  },
  {
   "cell_type": "code",
   "execution_count": null,
   "id": "92e485d4-1955-4279-8cd0-e5cb7998adca",
   "metadata": {},
   "outputs": [],
   "source": [
    "# 이별 30분 전\n",
    "a, b = map(int, input().split())\n",
    "\n",
    "# 30분 전 계산\n",
    "b -= 30\n",
    "if b < 0:\n",
    "    b += 60  # 분에서 30을 빼고 음수가 되면, 60을 더해줌\n",
    "    a -= 1   # 시에서 1을 빼줌\n",
    "    if a < 0:  # 시가 음수가 되면 23으로 설정\n",
    "        a = 23\n",
    "\n",
    "# 결과 출력\n",
    "print(a, b)\n"
   ]
  }
 ],
 "metadata": {
  "kernelspec": {
   "display_name": "Python 3 (ipykernel)",
   "language": "python",
   "name": "python3"
  },
  "language_info": {
   "codemirror_mode": {
    "name": "ipython",
    "version": 3
   },
   "file_extension": ".py",
   "mimetype": "text/x-python",
   "name": "python",
   "nbconvert_exporter": "python",
   "pygments_lexer": "ipython3",
   "version": "3.12.4"
  }
 },
 "nbformat": 4,
 "nbformat_minor": 5
}
